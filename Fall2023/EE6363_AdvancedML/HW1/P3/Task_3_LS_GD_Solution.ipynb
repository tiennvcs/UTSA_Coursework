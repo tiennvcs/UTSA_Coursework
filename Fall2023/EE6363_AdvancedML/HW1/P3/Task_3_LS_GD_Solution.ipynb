{
  "nbformat": 4,
  "nbformat_minor": 0,
  "metadata": {
    "colab": {
      "provenance": [],
      "authorship_tag": "ABX9TyMrK3avPRAyFej7qArLaMUZ",
      "include_colab_link": true
    },
    "kernelspec": {
      "name": "python3",
      "display_name": "Python 3"
    },
    "language_info": {
      "name": "python"
    }
  },
  "cells": [
    {
      "cell_type": "markdown",
      "metadata": {
        "id": "view-in-github",
        "colab_type": "text"
      },
      "source": [
        "<a href=\"https://colab.research.google.com/github/tiennvcs/EE6363_AdvancedML/blob/main/HW1/P3/Task_3_LS_GD_Solution.ipynb\" target=\"_parent\"><img src=\"https://colab.research.google.com/assets/colab-badge.svg\" alt=\"Open In Colab\"/></a>"
      ]
    },
    {
      "cell_type": "markdown",
      "source": [
        "Consider least square problem $\\min_{x \\in \\mathbf{R}^3}||y - Ax||_2^2$, where $A = \\begin{bmatrix}\n",
        "  3 & 1 & 2 \\\\\n",
        "  1 & 3 & 1 \\\\\n",
        "  2 & 1 & 3 \\\\\n",
        "\\end{bmatrix}\n",
        "$, and $y = \\begin{bmatrix}\n",
        "  2 \\\\\n",
        "  3 \\\\\n",
        "  4 \\\\\n",
        "\\end{bmatrix}$"
      ],
      "metadata": {
        "id": "HkTCuZDMmIBU"
      }
    },
    {
      "cell_type": "markdown",
      "source": [
        "## Solve by Gradient descent"
      ],
      "metadata": {
        "id": "Dm6sJUyhmKiE"
      }
    },
    {
      "cell_type": "markdown",
      "source": [
        "### Test gradient descent with fixed stepsize"
      ],
      "metadata": {
        "id": "EaClv2LpukMI"
      }
    },
    {
      "cell_type": "markdown",
      "source": [
        "Gradient descent algorithm procedure with constant stepsize $\\gamma$:\n",
        "\n",
        "\n",
        "1.   Initialize $x_0 \\in \\mathbf{R}^3$ (e.g., randomly)\n",
        "\n",
        "2.   Start with $n = 1$, then loop until convergence, or reach the limitation iteration $l$, at every timestep $n$ do the following instruction:\n",
        "    - Calculate the gradient at $x_{n-1}$\n",
        "    $$\n",
        "        g(x_{n-1}) = 2(A^TAx_{n-1} - A^Ty)\n",
        "    $$\n",
        "    - Perform update $x_n$\n",
        "    $$\n",
        "        x_n = x_{n-1} - \\gamma g(x)\n",
        "    $$\n",
        "3. Return $x_n$\n",
        "\n",
        "\n"
      ],
      "metadata": {
        "id": "NCcVQWlbomhN"
      }
    },
    {
      "cell_type": "code",
      "source": [
        "import numpy as np\n",
        "from numpy.linalg import inv, svd, norm\n",
        "from typing import Union\n",
        "from matplotlib import pyplot as plt"
      ],
      "metadata": {
        "id": "Wip3RUIPmc3u"
      },
      "execution_count": 1,
      "outputs": []
    },
    {
      "cell_type": "code",
      "source": [
        "# Define f(x) function\n",
        "def f(A: np.ndarray, x: np.array, y: np.array):\n",
        "    return norm(y-A.dot(x))**2"
      ],
      "metadata": {
        "id": "_-WcWNpuz0L7"
      },
      "execution_count": 2,
      "outputs": []
    },
    {
      "cell_type": "code",
      "execution_count": 3,
      "metadata": {
        "id": "NMdt5lcCkwRo"
      },
      "outputs": [],
      "source": [
        "def gd_constant_step(A: np.ndarray, y: np.ndarray, x0=[0, 0, 0], epoch=300, gamma0=1e-2) -> np.ndarray:\n",
        "    x = x0\n",
        "    f_values = []\n",
        "    for i in range(1, epoch+1):\n",
        "        g = 2*((A.T).dot(A).dot(x) - (A.T).dot(y))\n",
        "        x = x - gamma0*g\n",
        "        f_values.append(f(A, x, y))\n",
        "    return x, f_values"
      ]
    },
    {
      "cell_type": "code",
      "source": [
        "# Test on A, y\n",
        "A = np.array([\n",
        "    [3, 1, 2],\n",
        "    [1, 3, 1],\n",
        "    [2, 1, 3],\n",
        "])\n",
        "\n",
        "y = np.array([2, 3, 4]).T"
      ],
      "metadata": {
        "id": "u-hpC3TimZzd"
      },
      "execution_count": 4,
      "outputs": []
    },
    {
      "cell_type": "code",
      "source": [
        "x0 = np.zeros(shape=3)\n",
        "epoch = 300\n",
        "gamma0 = 1e-2"
      ],
      "metadata": {
        "id": "oDfrr4NHu5My"
      },
      "execution_count": 5,
      "outputs": []
    },
    {
      "cell_type": "code",
      "source": [
        "x_fixed, f_values_fixed = gd_constant_step(A, y, x0=x0, epoch=epoch, gamma0=gamma0)"
      ],
      "metadata": {
        "id": "nlqk_OC_maMs"
      },
      "execution_count": 6,
      "outputs": []
    },
    {
      "cell_type": "code",
      "source": [
        "print(\"Solution founded by gradient descent (constant step size) is: {}\".format(x_fixed))"
      ],
      "metadata": {
        "colab": {
          "base_uri": "https://localhost:8080/"
        },
        "id": "mUy5WH6_uyMZ",
        "outputId": "00097cd0-7e2d-4df0-ca2b-84305fc7a6b5"
      },
      "execution_count": 7,
      "outputs": [
        {
          "output_type": "stream",
          "name": "stdout",
          "text": [
            "Solution founded by gradient descent (constant step size) is: [-0.53612903  0.69230769  1.45920596]\n"
          ]
        }
      ]
    },
    {
      "cell_type": "code",
      "source": [
        "print(\"The minimum value founded by fixed step size GD algorithm: {}\".format(f(A, x_fixed, y)))"
      ],
      "metadata": {
        "colab": {
          "base_uri": "https://localhost:8080/"
        },
        "id": "-lKMbi9X71XT",
        "outputId": "311ee466-8f76-4efc-be53-16edcf3d33df"
      },
      "execution_count": 8,
      "outputs": [
        {
          "output_type": "stream",
          "name": "stdout",
          "text": [
            "The minimum value founded by fixed step size GD algorithm: 1.088116538205186e-05\n"
          ]
        }
      ]
    },
    {
      "cell_type": "markdown",
      "source": [
        "### Gradient descent algorithm procedure with adaptive stepsize $\\gamma$\n",
        "\n",
        "\n"
      ],
      "metadata": {
        "id": "18FC4zXnvP6E"
      }
    },
    {
      "cell_type": "markdown",
      "source": [
        "1.  Initialize $x_0 \\in \\mathbf{R}^3$ (e.g., randomly)\n",
        "\n",
        "    Initialize $\\gamma_0$ (e.g., 0.02)\n",
        "\n",
        "2.   Start with $n = 1$, then loop until convergence, or reach the limitation iteration $l$, at every timestep $n$ do the following instruction:\n",
        "    - Calculate the gradient at $x_{n-1}$\n",
        "    $$\n",
        "        g(x_{n-1}) = 2(A^TAx_{n-1} - A^Ty)\n",
        "    $$\n",
        "    - Find the step size that minimizes the metric at the next GD update\n",
        "    $$\n",
        "        \\gamma_n = \\frac{||g(x_{n-1})||^2_{}}{||Ag(x_{n-1})||^2}\n",
        "    $$\n",
        "    - Perform update $x_n$\n",
        "    $$\n",
        "        x_n = x_{n-1} - \\gamma_n g(x)\n",
        "    $$\n",
        "3. Return $x_n$"
      ],
      "metadata": {
        "id": "1jgdjctOymVR"
      }
    },
    {
      "cell_type": "code",
      "source": [
        "def gd_adaptive_step(A: np.ndarray, y: np.ndarray, x0=[0, 0, 0], epoch=300, gamma0=1e-8) -> np.ndarray:\n",
        "    x = x0\n",
        "    gamma = gamma0\n",
        "    f_values = []\n",
        "    for i in range(1, epoch+1):\n",
        "        g = 2*((A.T).dot(A).dot(x) - (A.T).dot(y))\n",
        "        gamma = (g.T.dot(g))/(((A.dot(g)).T).dot((A.dot(g))))\n",
        "        x = x - gamma*g\n",
        "        f_values.append(f(A, x, y))\n",
        "    return x, f_values"
      ],
      "metadata": {
        "id": "1qDPkEYIu-FN"
      },
      "execution_count": 9,
      "outputs": []
    },
    {
      "cell_type": "code",
      "source": [
        "x_adaptive, f_values_adaptive = gd_adaptive_step(A, y, x0=x0, epoch=epoch, gamma0=gamma0)"
      ],
      "metadata": {
        "id": "cboSF5hKxEzj"
      },
      "execution_count": 10,
      "outputs": []
    },
    {
      "cell_type": "code",
      "source": [
        "print(\"Solution founded by gradient descent (adaptive step size) is: {}\".format(x_adaptive))"
      ],
      "metadata": {
        "colab": {
          "base_uri": "https://localhost:8080/"
        },
        "id": "mGwmYjH7xJQz",
        "outputId": "dd5c7cd5-6322-45ad-9547-d268a349a6d4"
      },
      "execution_count": 11,
      "outputs": [
        {
          "output_type": "stream",
          "name": "stdout",
          "text": [
            "Solution founded by gradient descent (adaptive step size) is: [-1.12842218  0.26042652  0.87157781]\n"
          ]
        }
      ]
    },
    {
      "cell_type": "code",
      "source": [
        "print(\"The minimum value founded by adaptive step size GD algorithm: {}\".format(f(A, x_adaptive, y)))"
      ],
      "metadata": {
        "colab": {
          "base_uri": "https://localhost:8080/"
        },
        "id": "oRZiSd9P7rsu",
        "outputId": "61886476-1337-4a2b-c84d-f1bbfec61edc"
      },
      "execution_count": 12,
      "outputs": [
        {
          "output_type": "stream",
          "name": "stdout",
          "text": [
            "The minimum value founded by adaptive step size GD algorithm: 29.000000000000227\n"
          ]
        }
      ]
    },
    {
      "cell_type": "markdown",
      "source": [
        "### Plot value of metric f(x) with both algorithms"
      ],
      "metadata": {
        "id": "cVYom_yoyfhw"
      }
    },
    {
      "cell_type": "code",
      "source": [
        "fig, ax = plt.subplots(1, 1, figsize=(8, 6))\n",
        "X = range(1, epoch+1)\n",
        "ax.plot(X, f_values_fixed, label=r\"$\\gamma = 0.01$\", color='r')\n",
        "ax.plot(X, f_values_adaptive, label=r\"Adaptive $\\gamma$\", color='b')\n",
        "ax.legend(loc='best')\n",
        "plt.show()"
      ],
      "metadata": {
        "colab": {
          "base_uri": "https://localhost:8080/",
          "height": 522
        },
        "id": "IpIRJJPSxb_U",
        "outputId": "a4f51628-f935-4859-9370-7fa33e72c0b8"
      },
      "execution_count": 13,
      "outputs": [
        {
          "output_type": "display_data",
          "data": {
            "text/plain": [
              "<Figure size 800x600 with 1 Axes>"
            ],
            "image/png": "[encoded data removed]"
          },
          "metadata": {}
        }
      ]
    },
    {
      "cell_type": "markdown",
      "source": [
        "- How do the two curves compare?\n",
        "\n",
        "    $→$ Two red one converge better than the blue one. The blue one do not change value.\n",
        "\n",
        "- What is the metric value upon convergence?\n",
        "\n",
        "    $\\rightarrow$ The adaptive GD:= 29, Fixed GD: $≈0$\n",
        "\n",
        "- What is $x$ at the last update for $(a)$ and $(b)$ and how does it compare\n",
        "with the single-shot solution of Part 2?\n",
        "\n",
        "    $\\rightarrow$ The lastest update founded by fixed GD: $[-0.53612903  0.69230769  1.45920596]^T$ is similar with single-shot solution founded by inversion method.\n",
        "\n",
        "    $\\rightarrow$ The lastest update founded by adaptive GD: $[-1.12842218  0.26042652  0.87157781]^T$ is different with solution founded by inversion method.\n",
        "\n"
      ],
      "metadata": {
        "id": "059m4-cr7THM"
      }
    },
    {
      "cell_type": "code",
      "source": [],
      "metadata": {
        "id": "v18NScqYypOO"
      },
      "execution_count": 13,
      "outputs": []
    }
  ]
}