{
  "nbformat": 4,
  "nbformat_minor": 0,
  "metadata": {
    "colab": {
      "provenance": [],
      "authorship_tag": "ABX9TyPrhNfWhkfRYm9mQpp87l6r",
      "include_colab_link": true
    },
    "kernelspec": {
      "name": "python3",
      "display_name": "Python 3"
    },
    "language_info": {
      "name": "python"
    }
  },
  "cells": [
    {
      "cell_type": "markdown",
      "metadata": {
        "id": "view-in-github",
        "colab_type": "text"
      },
      "source": [
        "<a href=\"https://colab.research.google.com/github/tiennvcs/EE6363_AdvancedML/blob/main/HW1/P3/Task_4.ipynb\" target=\"_parent\"><img src=\"https://colab.research.google.com/assets/colab-badge.svg\" alt=\"Open In Colab\"/></a>"
      ]
    },
    {
      "cell_type": "markdown",
      "source": [
        "Repeart part 2-3 for $A = \\begin{bmatrix}\n",
        "    3 & 1 & 2 \\\\\n",
        "    9 & 3 & 6 \\\\\n",
        "    2 & 1 & 3 \\\\\n",
        "\\end{bmatrix}$"
      ],
      "metadata": {
        "id": "LpXJR3uEzj_-"
      }
    },
    {
      "cell_type": "markdown",
      "source": [
        "## Define function in part 2, 3 and set up parameters"
      ],
      "metadata": {
        "id": "WUBA2G6m2F8s"
      }
    },
    {
      "cell_type": "code",
      "execution_count": 1,
      "metadata": {
        "id": "nDhrrhl0zAkf"
      },
      "outputs": [],
      "source": [
        "import numpy as np\n",
        "from numpy.linalg import inv, svd, norm\n",
        "from typing import Union\n",
        "from matplotlib import pyplot as plt"
      ]
    },
    {
      "cell_type": "code",
      "source": [
        "# Define f(x) function\n",
        "def f(A: np.ndarray, x: np.array, y: np.array):\n",
        "    return norm(y-A.dot(x))**2"
      ],
      "metadata": {
        "id": "pyw6eRhV0F97"
      },
      "execution_count": 2,
      "outputs": []
    },
    {
      "cell_type": "code",
      "source": [
        "def solve_leastsquare_inversion(A: np.ndarray, y: np.ndarray) -> np.ndarray:\n",
        "    t = inv((A.T).dot(A))\n",
        "    x = (t.dot(A.T)).dot(y)\n",
        "    return x"
      ],
      "metadata": {
        "id": "82BEww4gz4yO"
      },
      "execution_count": 3,
      "outputs": []
    },
    {
      "cell_type": "code",
      "source": [
        "def standardSVD(A: np.ndarray) -> Union[np.ndarray, np.ndarray, np.ndarray]:\n",
        "    U, S, Vt = svd(A)\n",
        "    a = np.zeros(A.shape)\n",
        "    np.fill_diagonal(a, S)\n",
        "    S = a\n",
        "    return U, S, Vt"
      ],
      "metadata": {
        "id": "pvjaKz8uz7YV"
      },
      "execution_count": 4,
      "outputs": []
    },
    {
      "cell_type": "code",
      "source": [
        "def stablizedSVD(A: np.ndarray, epsilon=0.5) -> Union[np.ndarray, np.ndarray, np.ndarray]:\n",
        "    # Call SVD from scipy\n",
        "    U, S, Vt = standardSVD(A)\n",
        "    # Find maximum k that satisfy S_{k, k}/S_{0, 0} >= epsilon\n",
        "    k = 0\n",
        "    while k < S.shape[0]:\n",
        "        if S[k, k]/S[0, 0] < epsilon:\n",
        "            break\n",
        "        k += 1\n",
        "    k = k -1\n",
        "    # Gather columns of U to form new Us\n",
        "    Us = U[:, 0:k+1]\n",
        "    # Gather columns of S to form new Ss\n",
        "    Ss = S[:k+1, :k+1]\n",
        "    # Gather rows of Vt to form new Vts\n",
        "    Vts = Vt[:k+1, :]\n",
        "    return Us, Ss, Vts"
      ],
      "metadata": {
        "id": "WBdahE2fz8j1"
      },
      "execution_count": 5,
      "outputs": []
    },
    {
      "cell_type": "code",
      "source": [
        "def solve_leastsquare_stabilizedSVD(A: np.ndarray, y: np.ndarray, epsilon=0.5) -> np.ndarray:\n",
        "    # Calculate matrix W = A^T.A\n",
        "    W = (A.T).dot(A)\n",
        "    # Call stablizedSVD to get U, S, V\n",
        "    Us, Ss, Vts = stablizedSVD(W, epsilon=epsilon)\n",
        "    print(\"Singular values after reduced: \\n{}\".format(Ss))\n",
        "    # Compute the general solution x = VS^-1U^TA^Ty\n",
        "    x = (((Vts.T).dot(inv(Ss)).dot(Us.T)).dot(A.T)).dot(y)\n",
        "    return x"
      ],
      "metadata": {
        "id": "fGNV2lOhz-Vk"
      },
      "execution_count": 6,
      "outputs": []
    },
    {
      "cell_type": "code",
      "source": [
        "def gd_constant_step(A: np.ndarray, y: np.ndarray, x0=[0, 0, 0], epoch=300, gamma0=1e-2) -> np.ndarray:\n",
        "    x = x0\n",
        "    f_values = []\n",
        "    for i in range(1, epoch+1):\n",
        "        g = 2*((A.T).dot(A).dot(x) - (A.T).dot(y))\n",
        "        x = x - gamma0*g\n",
        "        f_values.append(f(A, x, y))\n",
        "    return x, f_values"
      ],
      "metadata": {
        "id": "mQsvrQuo0Ho0"
      },
      "execution_count": 7,
      "outputs": []
    },
    {
      "cell_type": "code",
      "source": [
        "def gd_adaptive_step(A: np.ndarray, y: np.ndarray, x0=[0, 0, 0], epoch=300, gamma0=1e-8) -> np.ndarray:\n",
        "    x = x0\n",
        "    gamma = gamma0\n",
        "    f_values = []\n",
        "    for i in range(1, epoch+1):\n",
        "        g = 2*((A.T).dot(A).dot(x) - (A.T).dot(y))\n",
        "        gamma = (g.T.dot(g))/(((A.dot(g)).T).dot((A.dot(g))))\n",
        "        x = x - gamma*g\n",
        "        f_values.append(f(A, x, y))\n",
        "    return x, f_values"
      ],
      "metadata": {
        "id": "KkkdiCqg0KBO"
      },
      "execution_count": 8,
      "outputs": []
    },
    {
      "cell_type": "code",
      "source": [
        "A = np.array([\n",
        "    [3, 1, 2],\n",
        "    [9, 3, 6],\n",
        "    [2, 1, 3]\n",
        "])\n",
        "\n",
        "y = np.array([2, 3, 4]).T"
      ],
      "metadata": {
        "id": "59WwxouD0cdz"
      },
      "execution_count": 9,
      "outputs": []
    },
    {
      "cell_type": "markdown",
      "source": [
        "## Part 2\n"
      ],
      "metadata": {
        "id": "5qVKWQ9x0Sxm"
      }
    },
    {
      "cell_type": "markdown",
      "source": [
        "### Solve by inversion method"
      ],
      "metadata": {
        "id": "evZZ8xT30YWg"
      }
    },
    {
      "cell_type": "code",
      "source": [
        "try:\n",
        "    xi = solve_leastsquare_inversion(A, y)\n",
        "except Exception as e:\n",
        "  print(\"Error due to: \", e)"
      ],
      "metadata": {
        "colab": {
          "base_uri": "https://localhost:8080/",
          "height": 0
        },
        "id": "F274R5830U4q",
        "outputId": "fa2aa6a9-e5f3-499c-b5af-cfec7a57192f"
      },
      "execution_count": 10,
      "outputs": [
        {
          "output_type": "stream",
          "name": "stdout",
          "text": [
            "Error due to:  Singular matrix\n"
          ]
        }
      ]
    },
    {
      "cell_type": "markdown",
      "source": [
        "$\\rightarrow$ Cannot find the $x$ by inversion method"
      ],
      "metadata": {
        "id": "t_JE4pPc1CpU"
      }
    },
    {
      "cell_type": "code",
      "source": [
        "xs = solve_leastsquare_stabilizedSVD(A, y, epsilon=0.01)\n",
        "zs = f(A, xs, y)\n",
        "print(\"Optimmal value x = {} -> f(x) = {} founded by stablized SVD method with epsilon = 0.01\".format(xs, zs))"
      ],
      "metadata": {
        "colab": {
          "base_uri": "https://localhost:8080/",
          "height": 0
        },
        "id": "ROtqLMJD0uBu",
        "outputId": "7579b5a4-e273-45de-adb8-9b8612a3e777"
      },
      "execution_count": 11,
      "outputs": [
        {
          "output_type": "stream",
          "name": "stdout",
          "text": [
            "Singular values after reduced: \n",
            "[[152.22632518   0.        ]\n",
            " [  0.           1.77367482]]\n",
            "Optimmal value x = [-0.97777778  0.18888889  1.92222222] -> f(x) = 0.8999999999999997 founded by stablized SVD method with epsilon = 0.01\n"
          ]
        }
      ]
    },
    {
      "cell_type": "markdown",
      "source": [
        "$\\rightarrow$ Can find the appximiate solution by stabilized SVD with suitable $\\epsilon=0.01$ that eliminate the last singular value (i.e., $0$)."
      ],
      "metadata": {
        "id": "JSgdjKzG1j1D"
      }
    },
    {
      "cell_type": "markdown",
      "source": [
        "### Solve by Gradient descent method with fixed/adaptive step size"
      ],
      "metadata": {
        "id": "Ip4KUMn118M0"
      }
    },
    {
      "cell_type": "code",
      "source": [
        "x0 = np.zeros(shape=3)\n",
        "epoch = 300\n",
        "gamma0 = 1e-2"
      ],
      "metadata": {
        "id": "pliufsOI5plt"
      },
      "execution_count": 12,
      "outputs": []
    },
    {
      "cell_type": "code",
      "source": [
        "x_fixed, f_values_fixed = gd_constant_step(A, y, x0=x0, epoch=epoch, gamma0=gamma0)"
      ],
      "metadata": {
        "id": "s9i0lpo405Bb"
      },
      "execution_count": 13,
      "outputs": []
    },
    {
      "cell_type": "code",
      "source": [
        "x_adaptive, f_values_adaptive = gd_adaptive_step(A, y, x0=x0, epoch=epoch, gamma0=gamma0)"
      ],
      "metadata": {
        "id": "BRH4e1Cx2bEM"
      },
      "execution_count": 14,
      "outputs": []
    },
    {
      "cell_type": "code",
      "source": [
        "fig, ax = plt.subplots(1, 1, figsize=(8, 6))\n",
        "X = range(1, epoch+1)\n",
        "ax.plot(X, np.log(f_values_fixed), label=r\"$\\gamma = {}$\".format(gamma0), color='r')\n",
        "ax.plot(X, np.log(f_values_adaptive), label=r\"Adaptive $\\gamma$\", color='b')\n",
        "ax.legend(loc='best')\n",
        "plt.show()"
      ],
      "metadata": {
        "colab": {
          "base_uri": "https://localhost:8080/",
          "height": 522
        },
        "id": "DQUY0-EK2jMc",
        "outputId": "bd91eaca-2ddc-47d1-f510-eb226a368760"
      },
      "execution_count": 15,
      "outputs": [
        {
          "output_type": "display_data",
          "data": {
            "text/plain": [
              "<Figure size 800x600 with 1 Axes>"
            ],
            "image/png": "[encoded data removed]"
          },
          "metadata": {}
        }
      ]
    },
    {
      "cell_type": "code",
      "source": [
        "print(f_values_fixed[-1])\n",
        "print(f_values_adaptive[-1])"
      ],
      "metadata": {
        "colab": {
          "base_uri": "https://localhost:8080/",
          "height": 0
        },
        "id": "f8fbNNeJ5wVE",
        "outputId": "20d60e54-5717-4f55-cae1-0d21088a3a45"
      },
      "execution_count": 16,
      "outputs": [
        {
          "output_type": "stream",
          "name": "stdout",
          "text": [
            "4.540723093230641e+187\n",
            "29.000000000000092\n"
          ]
        }
      ]
    },
    {
      "cell_type": "markdown",
      "source": [
        "- Is the inversion-based solution possible now?\n",
        "\n",
        "    → No.\n",
        "\n",
        "* Is the value of the metric at the closed form solution same as\n",
        "before? If not, why?\n",
        "\n",
        "    → No, because the matrix A is singular (we can see the 2nd column in A is produced by 2 times first column of A).\n",
        "\n",
        "* Did you have to change constant step-size for GD to converge? Did\n",
        "(b) converge faster in part 3 or part 4?\n",
        "\n",
        "    → If γ = 0.01, (b) converge, (a) do not converge; while setting γ = 0.00001, make (a) converge, (b) do not converge."
      ],
      "metadata": {
        "id": "Ock3vRFI4AtU"
      }
    },
    {
      "cell_type": "code",
      "source": [
        "x0 = np.zeros(shape=3)\n",
        "epoch = 300\n",
        "gamma0 = 1e-5\n",
        "\n",
        "x_fixed, f_values_fixed = gd_constant_step(A, y, x0=x0, epoch=epoch, gamma0=gamma0)\n",
        "\n",
        "x_adaptive, f_values_adaptive = gd_adaptive_step(A, y, x0=x0, epoch=epoch, gamma0=gamma0)"
      ],
      "metadata": {
        "id": "IHRglcQB_hnk"
      },
      "execution_count": 17,
      "outputs": []
    },
    {
      "cell_type": "code",
      "source": [
        "fig, ax = plt.subplots(1, 1, figsize=(8, 6))\n",
        "X = range(1, epoch+1)\n",
        "ax.plot(X, np.log(f_values_fixed), label=r\"$\\gamma = {}$\".format(gamma0), color='r')\n",
        "ax.plot(X, np.log(f_values_adaptive), label=r\"Adaptive $\\gamma$\", color='b')\n",
        "ax.legend(loc='best')\n",
        "plt.show()"
      ],
      "metadata": {
        "colab": {
          "base_uri": "https://localhost:8080/",
          "height": 522
        },
        "id": "R3-vSTrG_hHt",
        "outputId": "45172a09-316a-464f-edc1-3686ba4d2ba0"
      },
      "execution_count": 18,
      "outputs": [
        {
          "output_type": "display_data",
          "data": {
            "text/plain": [
              "<Figure size 800x600 with 1 Axes>"
            ],
            "image/png": "[encoded data removed]"
          },
          "metadata": {}
        }
      ]
    }
  ]
}