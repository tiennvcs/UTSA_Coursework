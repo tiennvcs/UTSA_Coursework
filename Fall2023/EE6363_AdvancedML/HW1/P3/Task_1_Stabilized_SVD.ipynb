{
  "nbformat": 4,
  "nbformat_minor": 0,
  "metadata": {
    "colab": {
      "provenance": [],
      "authorship_tag": "ABX9TyP2Lyopu8T/6X4rUmqlzNTN",
      "include_colab_link": true
    },
    "kernelspec": {
      "name": "python3",
      "display_name": "Python 3"
    },
    "language_info": {
      "name": "python"
    }
  },
  "cells": [
    {
      "cell_type": "markdown",
      "metadata": {
        "id": "view-in-github",
        "colab_type": "text"
      },
      "source": [
        "<a href=\"https://colab.research.google.com/github/tiennvcs/EE6363_AdvancedML/blob/main/HW1/P3/Task_1_Stabilized_SVD.ipynb\" target=\"_parent\"><img src=\"https://colab.research.google.com/assets/colab-badge.svg\" alt=\"Open In Colab\"/></a>"
      ]
    },
    {
      "cell_type": "code",
      "execution_count": 1,
      "metadata": {
        "id": "iYxdZjpI_BRR"
      },
      "outputs": [],
      "source": [
        "import numpy as np\n",
        "from scipy.linalg import svd\n",
        "from typing import List, Union"
      ]
    },
    {
      "cell_type": "markdown",
      "source": [
        "## SVD by Scipy"
      ],
      "metadata": {
        "id": "pjU7OdB8_thK"
      }
    },
    {
      "cell_type": "code",
      "source": [
        "def standardSVD(A: np.ndarray) -> Union[np.ndarray, np.ndarray, np.ndarray]:\n",
        "    U, S, Vt = svd(A)\n",
        "    a = np.zeros(A.shape)\n",
        "    np.fill_diagonal(a, S)\n",
        "    S = a\n",
        "    return U, S, Vt"
      ],
      "metadata": {
        "id": "wYfgCV2MASk6"
      },
      "execution_count": 2,
      "outputs": []
    },
    {
      "cell_type": "code",
      "source": [
        "# Test standard SVD function\n",
        "A = np.array([\n",
        "    [3, 2, 2],\n",
        "    [2, 3, -2],\n",
        "])\n",
        "U, S, Vt = standardSVD(A)\n",
        "print(\"Original matrix A: \\n{}\".format(A))\n",
        "print(\"Left singular vectors (U): \\n{}\".format(U))\n",
        "print(\"Singular values (S): \\n{}\".format(S))\n",
        "print(\"Right singular vectors (Vt): \\n{}\".format(Vt))"
      ],
      "metadata": {
        "colab": {
          "base_uri": "https://localhost:8080/"
        },
        "id": "Ws0VGp1lAdmi",
        "outputId": "e3180e87-f830-4299-ead0-a1ea1dc7d7fa"
      },
      "execution_count": 3,
      "outputs": [
        {
          "output_type": "stream",
          "name": "stdout",
          "text": [
            "Original matrix A: \n",
            "[[ 3  2  2]\n",
            " [ 2  3 -2]]\n",
            "Left singular vectors (U): \n",
            "[[-0.70710678 -0.70710678]\n",
            " [-0.70710678  0.70710678]]\n",
            "Singular values (S): \n",
            "[[5. 0. 0.]\n",
            " [0. 3. 0.]]\n",
            "Right singular vectors (Vt): \n",
            "[[-7.07106781e-01 -7.07106781e-01 -6.47932334e-17]\n",
            " [-2.35702260e-01  2.35702260e-01 -9.42809042e-01]\n",
            " [-6.66666667e-01  6.66666667e-01  3.33333333e-01]]\n"
          ]
        }
      ]
    },
    {
      "cell_type": "code",
      "source": [
        "def reconstructSVD(U, S, Vt) -> np.ndarray:\n",
        "    return (U.dot(S)).dot(Vt)"
      ],
      "metadata": {
        "id": "xBC6D3XwAuWV"
      },
      "execution_count": 4,
      "outputs": []
    },
    {
      "cell_type": "code",
      "source": [
        "B = reconstructSVD(U, S, Vt)\n",
        "print(\"Reconstruct SVD: \\n{}\".format(B))"
      ],
      "metadata": {
        "colab": {
          "base_uri": "https://localhost:8080/"
        },
        "id": "rBRJn2lXGOlM",
        "outputId": "767d2240-81d2-493a-ab42-34365dba4bf0"
      },
      "execution_count": 5,
      "outputs": [
        {
          "output_type": "stream",
          "name": "stdout",
          "text": [
            "Reconstruct SVD: \n",
            "[[ 3.  2.  2.]\n",
            " [ 2.  3. -2.]]\n"
          ]
        }
      ]
    },
    {
      "cell_type": "markdown",
      "source": [
        "## Task 1. Stablized SVD"
      ],
      "metadata": {
        "id": "hfTdyNCR_wSy"
      }
    },
    {
      "cell_type": "code",
      "source": [
        "def stablizedSVD(A: np.ndarray, epsilon=0.5) -> Union[np.ndarray, np.ndarray, np.ndarray]:\n",
        "    # Call SVD from scipy\n",
        "    U, S, Vt = standardSVD(A)\n",
        "    # Find maximum k that satisfy S_{k, k}/S_{0, 0} >= epsilon\n",
        "    k = 0\n",
        "    while k < S.shape[0]:\n",
        "        if S[k, k]/S[0, 0] < epsilon:\n",
        "            break\n",
        "        k += 1\n",
        "    k = k -1\n",
        "    # Gather columns of U to form new Us\n",
        "    Us = U[:, 0:k+1]\n",
        "    # Gather columns of S to form new Ss\n",
        "    Ss = S[:k+1, :k+1]\n",
        "    # Gather rows of Vt to form new Vts\n",
        "    Vts = Vt[:k+1, :]\n",
        "    return Us, Ss, Vts"
      ],
      "metadata": {
        "id": "FCKskF-n_pjS"
      },
      "execution_count": 6,
      "outputs": []
    },
    {
      "cell_type": "code",
      "source": [
        "A = np.array([\n",
        "    [3, 1, 2],\n",
        "    [1, 3, 1],\n",
        "    [2, 1, 3],\n",
        "])"
      ],
      "metadata": {
        "id": "iW45USEn_8Lh"
      },
      "execution_count": 7,
      "outputs": []
    },
    {
      "cell_type": "code",
      "source": [
        "# Apply standard SVD\n",
        "U, S, Vt = standardSVD(A)"
      ],
      "metadata": {
        "id": "GTRj6pUsGvUb"
      },
      "execution_count": 8,
      "outputs": []
    },
    {
      "cell_type": "code",
      "source": [
        "print(\"Original matrix A: \\n{}\".format(A))\n",
        "print(\"Left singular vectors (U): \\n{}\".format(U))\n",
        "print(\"Singular values (S): \\n{}\".format(S))\n",
        "print(\"Right singular vectors (Vt): \\n{}\".format(Vt))"
      ],
      "metadata": {
        "colab": {
          "base_uri": "https://localhost:8080/"
        },
        "id": "4dvr3HErG02L",
        "outputId": "8b5842a8-941e-47d0-d0ce-b90058c11505"
      },
      "execution_count": 9,
      "outputs": [
        {
          "output_type": "stream",
          "name": "stdout",
          "text": [
            "Original matrix A: \n",
            "[[3 1 2]\n",
            " [1 3 1]\n",
            " [2 1 3]]\n",
            "Left singular vectors (U): \n",
            "[[-6.27963030e-01  3.25057584e-01 -7.07106781e-01]\n",
            " [-4.59700843e-01 -8.88073834e-01 -8.32667268e-17]\n",
            " [-6.27963030e-01  3.25057584e-01  7.07106781e-01]]\n",
            "Singular values (S): \n",
            "[[5.73205081 0.         0.        ]\n",
            " [0.         2.26794919 0.        ]\n",
            " [0.         0.         1.        ]]\n",
            "Right singular vectors (Vt): \n",
            "[[-6.27963030e-01 -4.59700843e-01 -6.27963030e-01]\n",
            " [ 3.25057584e-01 -8.88073834e-01  3.25057584e-01]\n",
            " [-7.07106781e-01  1.11022302e-16  7.07106781e-01]]\n"
          ]
        }
      ]
    },
    {
      "cell_type": "code",
      "source": [
        "# Apply Stabilized SVD\n",
        "Us, Ss, Vts = stablizedSVD(A, epsilon=0.3)"
      ],
      "metadata": {
        "id": "Rrlpq2s2Fdhb"
      },
      "execution_count": 10,
      "outputs": []
    },
    {
      "cell_type": "code",
      "source": [
        "print(\"Original matrix A: \\n{}\".format(A))\n",
        "print(\"Left singular vectors (Us): \\n{}\".format(Us))\n",
        "print(\"Singular values (Ss): \\n{}\".format(Ss))\n",
        "print(\"Right singular vectors (Vts): \\n{}\".format(Vts))"
      ],
      "metadata": {
        "colab": {
          "base_uri": "https://localhost:8080/"
        },
        "id": "QxD-yHyCE0ty",
        "outputId": "883b83ff-7049-4ded-d8e5-1e3ff80cb940"
      },
      "execution_count": 11,
      "outputs": [
        {
          "output_type": "stream",
          "name": "stdout",
          "text": [
            "Original matrix A: \n",
            "[[3 1 2]\n",
            " [1 3 1]\n",
            " [2 1 3]]\n",
            "Left singular vectors (Us): \n",
            "[[-0.62796303  0.32505758]\n",
            " [-0.45970084 -0.88807383]\n",
            " [-0.62796303  0.32505758]]\n",
            "Singular values (Ss): \n",
            "[[5.73205081 0.        ]\n",
            " [0.         2.26794919]]\n",
            "Right singular vectors (Vts): \n",
            "[[-0.62796303 -0.45970084 -0.62796303]\n",
            " [ 0.32505758 -0.88807383  0.32505758]]\n"
          ]
        }
      ]
    },
    {
      "cell_type": "markdown",
      "source": [
        "$\\rightarrow$ With $epsilon = 0.3$ the stablized SVD eliminates the third singular value $\\sigma_3$  of S, i.e., $\\sigma_3 = 1$ that do not satisfy condition $S_{k, k}/S_{1, 1} \\ge 0.3$. It also eliminates some columns of $U$ to form new tall matrix $U_s$, eliminates some rows of $V$ to form new tall matrix $V^T_s$.\n",
        "\n"
      ],
      "metadata": {
        "id": "bmQK7Vi9H9a9"
      }
    },
    {
      "cell_type": "markdown",
      "source": [
        "$\\rightarrow$ Role of $\\epsilon$: to control how many singular values (also how many columns of $U$ and $V$ remain after being cutdown) we want eliminate. If we set $\\epsilon$ high, we want $U_s, V^T_s, S_s$ shorter (more compact).\n",
        "\n",
        "\n",
        "$\\rightarrow$  $\\epsilon = 0$: because $S_{i,i} = \\sigma_i \\ge 0, \\ \\forall i$, hence $S_{i, i}/S_{1, 1} \\ge 0 = \\epsilon, \\ \\forall i$. It means we kept all singular values of $S$, therefore $U_s, S_s, V_s$ do not change anything. Or we can say, stabilized SVD become standard SVD.\n",
        "\n",
        "$\\rightarrow$ Why it named **stabilized** SVD: thanks to controlling parameter $ϵ$, we can control the output.\n",
        "\n"
      ],
      "metadata": {
        "id": "FcAKecJBJuzU"
      }
    },
    {
      "cell_type": "markdown",
      "source": [
        "$\\rightarrow$ When choose $\\epsilon = 0$, stabilized SVD"
      ],
      "metadata": {
        "id": "vPezRJLvdHVo"
      }
    },
    {
      "cell_type": "code",
      "source": [],
      "metadata": {
        "id": "ydn2nwLsHqiC"
      },
      "execution_count": 11,
      "outputs": []
    }
  ]
}