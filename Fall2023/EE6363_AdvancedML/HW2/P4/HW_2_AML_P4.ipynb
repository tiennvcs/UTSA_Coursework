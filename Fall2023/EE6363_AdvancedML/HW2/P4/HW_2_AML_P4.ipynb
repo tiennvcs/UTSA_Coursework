{
  "nbformat": 4,
  "nbformat_minor": 0,
  "metadata": {
    "colab": {
      "provenance": []
    },
    "kernelspec": {
      "name": "python3",
      "display_name": "Python 3"
    },
    "language_info": {
      "name": "python"
    }
  },
  "cells": [
    {
      "cell_type": "code",
      "execution_count": 1,
      "metadata": {
        "colab": {
          "base_uri": "https://localhost:8080/"
        },
        "id": "acBPcmXWxxrN",
        "outputId": "44bef5cc-d551-409c-8361-740144203f9d"
      },
      "outputs": [
        {
          "output_type": "stream",
          "name": "stdout",
          "text": [
            "Train-MSE: 10695.079336591358\n",
            "Test-MSE: 20616.25167223001\n"
          ]
        }
      ],
      "source": [
        "import numpy as np\n",
        "import pandas as pd\n",
        "\n",
        "# 1. Load the data\n",
        "train_data = pd.read_csv('FISHDTR.csv')\n",
        "test_data = pd.read_csv('FISHDTE.csv')\n",
        "\n",
        "# 2. Organize the data in matrix format\n",
        "X_train = np.column_stack([np.ones(train_data.shape[0]), train_data['width'], train_data['length']])\n",
        "y_train = train_data['weight'].values\n",
        "\n",
        "X_test = np.column_stack([np.ones(test_data.shape[0]), test_data['width'], test_data['length']])\n",
        "y_test = test_data['weight'].values\n",
        "\n",
        "# 3. Solve for the coefficient vector a using SVD\n",
        "U, Sigma, Vt = np.linalg.svd(X_train, full_matrices=False)\n",
        "a = Vt.T @ np.linalg.inv(np.diag(Sigma)) @ U.T @ y_train\n",
        "\n",
        "# 4. Calculate the train-MSE using the derived coefficients\n",
        "y_train_pred = X_train @ a\n",
        "train_MSE = np.mean((y_train_pred - y_train)**2)\n",
        "\n",
        "# 5. Predict the weights using the coefficients on the test dataset and calculate the test-MSE\n",
        "y_test_pred = X_test @ a\n",
        "test_MSE = np.mean((y_test_pred - y_test)**2)\n",
        "\n",
        "print(f\"Train-MSE: {train_MSE}\")\n",
        "print(f\"Test-MSE: {test_MSE}\")\n"
      ]
    },
    {
      "cell_type": "code",
      "source": [],
      "metadata": {
        "id": "prAnKnVI7O08"
      },
      "execution_count": null,
      "outputs": []
    }
  ]
}