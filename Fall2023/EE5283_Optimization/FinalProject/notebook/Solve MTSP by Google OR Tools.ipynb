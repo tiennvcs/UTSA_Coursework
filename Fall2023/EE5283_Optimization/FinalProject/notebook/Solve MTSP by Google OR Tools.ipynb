{
 "cells": [
  {
   "cell_type": "markdown",
   "id": "4fda21ca",
   "metadata": {},
   "source": [
    "# Multiple Traveling Salesmen Problem with Google OR Tools"
   ]
  },
  {
   "cell_type": "markdown",
   "id": "bedc9810",
   "metadata": {},
   "source": [
    "![](https://developers.google.com/static/optimization/images/routing/tsp_map.png)"
   ]
  },
  {
   "cell_type": "code",
   "execution_count": 6,
   "id": "ad6bdb09",
   "metadata": {},
   "outputs": [
    {
     "name": "stdout",
     "output_type": "stream",
     "text": [
      "Requirement already satisfied: ortools in c:\\users\\tienn\\appdata\\roaming\\python\\python311\\site-packages (9.7.2996)\n",
      "Requirement already satisfied: absl-py>=0.13 in c:\\users\\tienn\\appdata\\roaming\\python\\python311\\site-packages (from ortools) (2.0.0)\n",
      "Requirement already satisfied: numpy>=1.13.3 in c:\\users\\tienn\\anaconda3\\lib\\site-packages (from ortools) (1.24.3)\n",
      "Requirement already satisfied: protobuf>=4.23.3 in c:\\users\\tienn\\appdata\\roaming\\python\\python311\\site-packages (from ortools) (4.25.0)\n"
     ]
    }
   ],
   "source": [
    "!python -m pip install --upgrade --user ortools"
   ]
  },
  {
   "cell_type": "code",
   "execution_count": 7,
   "id": "26368d5b",
   "metadata": {},
   "outputs": [
    {
     "ename": "ModuleNotFoundError",
     "evalue": "No module named 'ortools'",
     "output_type": "error",
     "traceback": [
      "\u001b[1;31m---------------------------------------------------------------------------\u001b[0m",
      "\u001b[1;31mModuleNotFoundError\u001b[0m                       Traceback (most recent call last)",
      "Cell \u001b[1;32mIn[7], line 1\u001b[0m\n\u001b[1;32m----> 1\u001b[0m \u001b[38;5;28;01mfrom\u001b[39;00m \u001b[38;5;21;01mortools\u001b[39;00m\u001b[38;5;21;01m.\u001b[39;00m\u001b[38;5;21;01mlinear_solver\u001b[39;00m \u001b[38;5;28;01mimport\u001b[39;00m pywraplp, pywrapcp\n",
      "\u001b[1;31mModuleNotFoundError\u001b[0m: No module named 'ortools'"
     ]
    }
   ],
   "source": [
    " from ortools.linear_solver import pywraplp, pywrapcp"
   ]
  },
  {
   "cell_type": "markdown",
   "id": "0d3d0416",
   "metadata": {},
   "source": [
    "## Create data"
   ]
  },
  {
   "cell_type": "code",
   "execution_count": 1,
   "id": "10f719eb",
   "metadata": {},
   "outputs": [],
   "source": [
    "def create_data_model():\n",
    "    \"\"\"Stores the data for the problem.\"\"\"\n",
    "    data = {}\n",
    "    data[\"distance_matrix\"] = [\n",
    "        [0, 2451, 713, 1018, 1631, 1374, 2408, 213, 2571, 875, 1420, 2145, 1972],\n",
    "        [2451, 0, 1745, 1524, 831, 1240, 959, 2596, 403, 1589, 1374, 357, 579],\n",
    "        [713, 1745, 0, 355, 920, 803, 1737, 851, 1858, 262, 940, 1453, 1260],\n",
    "        [1018, 1524, 355, 0, 700, 862, 1395, 1123, 1584, 466, 1056, 1280, 987],\n",
    "        [1631, 831, 920, 700, 0, 663, 1021, 1769, 949, 796, 879, 586, 371],\n",
    "        [1374, 1240, 803, 862, 663, 0, 1681, 1551, 1765, 547, 225, 887, 999],\n",
    "        [2408, 959, 1737, 1395, 1021, 1681, 0, 2493, 678, 1724, 1891, 1114, 701],\n",
    "        [213, 2596, 851, 1123, 1769, 1551, 2493, 0, 2699, 1038, 1605, 2300, 2099],\n",
    "        [2571, 403, 1858, 1584, 949, 1765, 678, 2699, 0, 1744, 1645, 653, 600],\n",
    "        [875, 1589, 262, 466, 796, 547, 1724, 1038, 1744, 0, 679, 1272, 1162],\n",
    "        [1420, 1374, 940, 1056, 879, 225, 1891, 1605, 1645, 679, 0, 1017, 1200],\n",
    "        [2145, 357, 1453, 1280, 586, 887, 1114, 2300, 653, 1272, 1017, 0, 504],\n",
    "        [1972, 579, 1260, 987, 371, 999, 701, 2099, 600, 1162, 1200, 504, 0],\n",
    "    ]\n",
    "    data[\"num_vehicles\"] = 1\n",
    "    data[\"depot\"] = 0\n",
    "    return data"
   ]
  },
  {
   "cell_type": "markdown",
   "id": "bdfdc2a6",
   "metadata": {},
   "source": [
    "The distance matrix is an array whose $i, j$ entry is the distance from location $i$ to location $j$ in miles, where the array indices correspond to the locations in the following order: \n",
    "\n",
    "```0. New York - 1. Los Angeles - 2. Chicago - 3. Minneapolis - 4. Denver - 5. Dallas - 6. Seattle - 7. Boston - 8. San Francisco - 9. St. Louis - 10. Houston - 11. Phoenix - 12. Salt Lake City```"
   ]
  },
  {
   "cell_type": "markdown",
   "id": "6bad94c1",
   "metadata": {},
   "source": [
    "### Create routing model"
   ]
  },
  {
   "cell_type": "code",
   "execution_count": 2,
   "id": "19153ef8",
   "metadata": {},
   "outputs": [
    {
     "ename": "NameError",
     "evalue": "name 'pywrapcp' is not defined",
     "output_type": "error",
     "traceback": [
      "\u001b[1;31m---------------------------------------------------------------------------\u001b[0m",
      "\u001b[1;31mNameError\u001b[0m                                 Traceback (most recent call last)",
      "Cell \u001b[1;32mIn[2], line 2\u001b[0m\n\u001b[0;32m      1\u001b[0m data \u001b[38;5;241m=\u001b[39m create_data_model()\n\u001b[1;32m----> 2\u001b[0m manager \u001b[38;5;241m=\u001b[39m pywrapcp\u001b[38;5;241m.\u001b[39mRoutingIndexManager(\n\u001b[0;32m      3\u001b[0m     \u001b[38;5;28mlen\u001b[39m(data[\u001b[38;5;124m\"\u001b[39m\u001b[38;5;124mdistance_matrix\u001b[39m\u001b[38;5;124m\"\u001b[39m]), data[\u001b[38;5;124m\"\u001b[39m\u001b[38;5;124mnum_vehicles\u001b[39m\u001b[38;5;124m\"\u001b[39m], data[\u001b[38;5;124m\"\u001b[39m\u001b[38;5;124mdepot\u001b[39m\u001b[38;5;124m\"\u001b[39m]\n\u001b[0;32m      4\u001b[0m )\n\u001b[0;32m      5\u001b[0m routing \u001b[38;5;241m=\u001b[39m pywrapcp\u001b[38;5;241m.\u001b[39mRoutingModel(manager)\n",
      "\u001b[1;31mNameError\u001b[0m: name 'pywrapcp' is not defined"
     ]
    }
   ],
   "source": [
    "data = create_data_model()\n",
    "manager = pywrapcp.RoutingIndexManager(\n",
    "    len(data[\"distance_matrix\"]), data[\"num_vehicles\"], data[\"depot\"]\n",
    ")\n",
    "routing = pywrapcp.RoutingModel(manager)"
   ]
  },
  {
   "cell_type": "code",
   "execution_count": null,
   "id": "776c3661",
   "metadata": {},
   "outputs": [],
   "source": []
  }
 ],
 "metadata": {
  "kernelspec": {
   "display_name": "Python 3 (ipykernel)",
   "language": "python",
   "name": "python3"
  },
  "language_info": {
   "codemirror_mode": {
    "name": "ipython",
    "version": 3
   },
   "file_extension": ".py",
   "mimetype": "text/x-python",
   "name": "python",
   "nbconvert_exporter": "python",
   "pygments_lexer": "ipython3",
   "version": "3.11.4"
  }
 },
 "nbformat": 4,
 "nbformat_minor": 5
}
